{
 "cells": [
  {
   "cell_type": "code",
   "execution_count": 3,
   "metadata": {},
   "outputs": [],
   "source": [
    "import pandas as pd\n",
    "import numpy as np\n",
    "import math\n",
    "from sklearn import linear_model\n",
    "import pickle\n",
    "import joblib"
   ]
  },
  {
   "cell_type": "code",
   "execution_count": 4,
   "metadata": {},
   "outputs": [
    {
     "name": "stdout",
     "output_type": "stream",
     "text": [
      "   area  bedroom  age   price\n",
      "0  2600      3.0   20  550000\n",
      "1  3000      4.0   15  565000\n",
      "2  3200      NaN   18  610000\n",
      "3  3600      3.0   30  595000\n",
      "4  4000      5.0    8  760000\n",
      "   area  bedroom  age   price\n",
      "0  2600      3.0   20  550000\n",
      "1  3000      4.0   15  565000\n",
      "2  3200      3.0   18  610000\n",
      "3  3600      3.0   30  595000\n",
      "4  4000      5.0    8  760000\n",
      "[   137.25 -26025.    -6825.  ]\n",
      "383724.9999999998\n",
      "[444400.]\n",
      "[588625.]\n"
     ]
    },
    {
     "name": "stderr",
     "output_type": "stream",
     "text": [
      "e:\\Anaconda\\Lib\\site-packages\\sklearn\\base.py:493: UserWarning: X does not have valid feature names, but LinearRegression was fitted with feature names\n",
      "  warnings.warn(\n",
      "e:\\Anaconda\\Lib\\site-packages\\sklearn\\base.py:493: UserWarning: X does not have valid feature names, but LinearRegression was fitted with feature names\n",
      "  warnings.warn(\n"
     ]
    }
   ],
   "source": [
    "# Load the dataset\n",
    "df = pd.read_csv(r\"C:\\\\Users\\\\bhosa\\\\OneDrive\\\\Desktop\\\\Machine learning\\\\homeprices.csv\")\n",
    "print(df)\n",
    "\n",
    "# Handle missing values in 'bedroom' column\n",
    "median_bedroom = math.floor(df.bedroom.median())\n",
    "df.bedroom = df.bedroom.fillna(median_bedroom)\n",
    "print(df)\n",
    "\n",
    "# Create and train the model\n",
    "reg = linear_model.LinearRegression()\n",
    "reg.fit(df[['area', 'bedroom', 'age']], df.price)\n",
    "\n",
    "# Print the coefficients and intercept\n",
    "print(reg.coef_)\n",
    "print(reg.intercept_)\n",
    "\n",
    "# Make predictions\n",
    "print(reg.predict([[3000, 3, 40]]))\n",
    "print(reg.predict([[2500, 4, 5]]))"
   ]
  },
  {
   "cell_type": "code",
   "execution_count": 5,
   "metadata": {},
   "outputs": [
    {
     "name": "stdout",
     "output_type": "stream",
     "text": [
      "[444400.]\n"
     ]
    },
    {
     "name": "stderr",
     "output_type": "stream",
     "text": [
      "e:\\Anaconda\\Lib\\site-packages\\sklearn\\base.py:493: UserWarning: X does not have valid feature names, but LinearRegression was fitted with feature names\n",
      "  warnings.warn(\n"
     ]
    }
   ],
   "source": [
    "# Save the model using pickle\n",
    "with open('model_pickle', 'wb') as f:\n",
    "    pickle.dump(reg, f)\n",
    "\n",
    "# Load the model from the pickle file\n",
    "with open('model_pickle', 'rb') as f:\n",
    "    mp = pickle.load(f)\n",
    "\n",
    "# Use the loaded model to make a prediction\n",
    "print(mp.predict([[3000, 3, 40]]))"
   ]
  },
  {
   "cell_type": "code",
   "execution_count": 6,
   "metadata": {},
   "outputs": [
    {
     "data": {
      "text/plain": [
       "['model_joblib']"
      ]
     },
     "execution_count": 6,
     "metadata": {},
     "output_type": "execute_result"
    }
   ],
   "source": [
    "joblib.dump(reg,'model_joblib')"
   ]
  },
  {
   "cell_type": "code",
   "execution_count": 7,
   "metadata": {},
   "outputs": [],
   "source": [
    "mj=joblib.load('model_joblib')"
   ]
  },
  {
   "cell_type": "code",
   "execution_count": 8,
   "metadata": {},
   "outputs": [
    {
     "name": "stderr",
     "output_type": "stream",
     "text": [
      "e:\\Anaconda\\Lib\\site-packages\\sklearn\\base.py:493: UserWarning: X does not have valid feature names, but LinearRegression was fitted with feature names\n",
      "  warnings.warn(\n"
     ]
    },
    {
     "data": {
      "text/plain": [
       "array([444400.])"
      ]
     },
     "execution_count": 8,
     "metadata": {},
     "output_type": "execute_result"
    }
   ],
   "source": [
    "mj.predict([[3000, 3, 40]])"
   ]
  }
 ],
 "metadata": {
  "kernelspec": {
   "display_name": "base",
   "language": "python",
   "name": "python3"
  },
  "language_info": {
   "codemirror_mode": {
    "name": "ipython",
    "version": 3
   },
   "file_extension": ".py",
   "mimetype": "text/x-python",
   "name": "python",
   "nbconvert_exporter": "python",
   "pygments_lexer": "ipython3",
   "version": "3.12.4"
  }
 },
 "nbformat": 4,
 "nbformat_minor": 2
}
